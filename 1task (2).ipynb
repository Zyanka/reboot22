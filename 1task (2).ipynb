{
 "cells": [
  {
   "cell_type": "code",
   "execution_count": null,
   "metadata": {},
   "outputs": [],
   "source": [
    "# Задание 1\n",
    "Собрать информацию о всех строящихся объектах на сайте \"наш.дом.рф\"\n",
    "Cохранить ее в pandas dataframe\n",
    "Cохранить pandas dataframe в excel\n",
    "Cохранить pandas dataframe в pickle\n",
    "Cохранить pandas dataframe в БД"
   ]
  },
  {
   "cell_type": "code",
   "execution_count": 1,
   "metadata": {},
   "outputs": [],
   "source": [
    "import requests\n",
    "import pandas as pd\n",
    "from tqdm import tqdm_notebook as tqdm"
   ]
  },
  {
   "cell_type": "code",
   "execution_count": 2,
   "metadata": {},
   "outputs": [
    {
     "data": {
      "application/vnd.jupyter.widget-view+json": {
       "model_id": "cf74678b00e849cabe2eba40f5a7fe19",
       "version_major": 2,
       "version_minor": 0
      },
      "text/plain": [
       "HBox(children=(IntProgress(value=0, max=107), HTML(value='')))"
      ]
     },
     "metadata": {},
     "output_type": "display_data"
    },
    {
     "name": "stdout",
     "output_type": "stream",
     "text": [
      "\n"
     ]
    }
   ],
   "source": [
    "# cобираем айди (циклом по 100)\n",
    "unik=[]\n",
    "limit_ = 100\n",
    "for i in tqdm(range (1,10700,100)):\n",
    "    offset_ = i\n",
    "    url = f'https://xn--80az8a.xn--d1aqf.xn--p1ai/%D1%81%D0%B5%D1%80%D0%B2%D0%B8%D1%81%D1%8B/api/kn/object?offset={offset_}&limit={limit_}&sortField=devId.devShortCleanNm&sortType=asc&objStatus=0'\n",
    "    res = requests.get(url)\n",
    "    objects_data = res.json()\n",
    "    objects_list = objects_data.get('data').get('list')\n",
    "    objids = [x.get('objId') for x in objects_list]\n",
    "    unik.extend(objids)\n",
    "    #print(i)"
   ]
  },
  {
   "cell_type": "code",
   "execution_count": 12,
   "metadata": {},
   "outputs": [
    {
     "data": {
      "application/vnd.jupyter.widget-view+json": {
       "model_id": "70f1bf8fe9bb42759b22468ed15d26d5",
       "version_major": 2,
       "version_minor": 0
      },
      "text/plain": [
       "HBox(children=(IntProgress(value=0, max=10558), HTML(value='')))"
      ]
     },
     "metadata": {},
     "output_type": "display_data"
    },
    {
     "name": "stdout",
     "output_type": "stream",
     "text": [
      "\n"
     ]
    }
   ],
   "source": [
    "#нормализуем и записывем инфо\n",
    "dfs = pd.DataFrame()\n",
    "for ids in tqdm(unik):\n",
    "    url = 'https://xn--80az8a.xn--d1aqf.xn--p1ai/%D1%81%D0%B5%D1%80%D0%B2%D0%B8%D1%81%D1%8B/api/object/' + str(ids)\n",
    "    res = requests.get(url)\n",
    "    dfs=dfs.append(pd.json_normalize(res.json().get('data')))\n",
    "    #print(unik.index(ids))\n",
    "dfs.to_excel('stop_loc.xlsx')#записываем в иксель\n",
    "dfs.to_pickle(\"./dummy.pkl\")#записываем в пикл"
   ]
  },
  {
   "cell_type": "code",
   "execution_count": 14,
   "metadata": {},
   "outputs": [],
   "source": [
    "#записываем в БД\n",
    "import sqlite3 as sl\n",
    "con = sl.connect('my-test.db')\n",
    "dfs1 = dfs.applymap(str)\n",
    "dfs1.to_sql('dfs2', con)"
   ]
  },
  {
   "cell_type": "code",
   "execution_count": 3,
   "metadata": {},
   "outputs": [
    {
     "data": {
      "application/vnd.jupyter.widget-view+json": {
       "model_id": "2b36705cdf8b4e409eabfca1f2ce13f2",
       "version_major": 2,
       "version_minor": 0
      },
      "text/plain": [
       "HBox(children=(IntProgress(value=0, max=10584), HTML(value='')))"
      ]
     },
     "metadata": {},
     "output_type": "display_data"
    },
    {
     "name": "stdout",
     "output_type": "stream",
     "text": [
      "\n"
     ]
    }
   ],
   "source": [
    "dfs1 = pd.DataFrame()\n",
    "for ids in tqdm(unik):\n",
    "    url = 'https://xn--80az8a.xn--d1aqf.xn--p1ai/%D1%81%D0%B5%D1%80%D0%B2%D0%B8%D1%81%D1%8B/api/object/' + str(ids)\n",
    "    res = requests.get(url)\n",
    "    dfs1=dfs1.append(pd.json_normalize(res.json().get('data').get('photoRenderDTO')))"
   ]
  },
  {
   "cell_type": "code",
   "execution_count": 31,
   "metadata": {},
   "outputs": [],
   "source": [
    "import os"
   ]
  },
  {
   "cell_type": "code",
   "execution_count": null,
   "metadata": {
    "scrolled": true
   },
   "outputs": [
    {
     "data": {
      "application/vnd.jupyter.widget-view+json": {
       "model_id": "9cbef9db0c97429896ac575d6551e0f6",
       "version_major": 2,
       "version_minor": 0
      },
      "text/plain": [
       "HBox(children=(IntProgress(value=1, bar_style='info', max=1), HTML(value='')))"
      ]
     },
     "metadata": {},
     "output_type": "display_data"
    }
   ],
   "source": [
    "#цикл для сохранения картинок в папке с айди стройки\n",
    "for i, row in tqdm(dfs1[['objId','objRenderPhotoUrl']].iterrows()):\n",
    "    if not os.path.exists(str(row['objId'])):\n",
    "        os.makedirs(str(row['objId']))\n",
    "        urlimg=row['objRenderPhotoUrl']\n",
    "        res2=requests.get(urlimg)\n",
    "        imageFile=open(os.path.join(str(row['objId']),str(i)),'wb')\n",
    "        for chunk in res2.iter_content(100000):\n",
    "            imageFile.write(chunk)\n",
    "        imageFile.close()\n",
    "        #imageFile.write(row['objRenderPhotoUrl'].content)\n",
    "        #imageFile.close()\n",
    "    else:\n",
    "        urlimg=row['objRenderPhotoUrl']\n",
    "        res2=requests.get(urlimg)\n",
    "        imageFile=open(os.path.join(str(row['objId']),str(i)),'wb')\n",
    "        for chunk in res2.iter_content(100000):\n",
    "            imageFile.write(chunk)\n",
    "        imageFile.close()"
   ]
  }
 ],
 "metadata": {
  "kernelspec": {
   "display_name": "Python 3",
   "language": "python",
   "name": "python3"
  },
  "language_info": {
   "codemirror_mode": {
    "name": "ipython",
    "version": 3
   },
   "file_extension": ".py",
   "mimetype": "text/x-python",
   "name": "python",
   "nbconvert_exporter": "python",
   "pygments_lexer": "ipython3",
   "version": "3.7.4"
  }
 },
 "nbformat": 4,
 "nbformat_minor": 2
}
