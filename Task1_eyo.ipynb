{
 "cells": [
  {
   "cell_type": "markdown",
   "source": [
    "[![Open In Colab](https://colab.research.google.com/assets/colab-badge.svg)](https://colab.research.google.com/github/ds-reboot/python-first-part/blob/main/notebooks/hometasks/Task1_dmrf.ipynb)"
   ],
   "metadata": {
    "collapsed": false,
    "pycharm": {
     "name": "#%% md\n"
    }
   }
  },
  {
   "cell_type": "markdown",
   "source": [
    "# Задание\n",
    "* Собрать информацию о всех строящихся объектах на сайте \"наш.дом.рф\"\n",
    "* Cохранить ее в pandas dataframe\n",
    "* Cохранить pandas dataframe в excel\n",
    "* Cохранить pandas dataframe в pickle\n",
    "* Cохранить pandas dataframe в БД\n",
    "\n",
    "# Задание *\n",
    "* Написать скрипт, который скачивает фотографии всех строящихся объектов с сайта \"наш.дом.рф\"\n"
   ],
   "metadata": {
    "collapsed": false,
    "pycharm": {
     "name": "#%% md\n"
    }
   }
  },
  {
   "cell_type": "code",
   "execution_count": 2,
   "outputs": [],
   "source": [
    "import requests"
   ],
   "metadata": {
    "collapsed": false,
    "pycharm": {
     "name": "#%%\n"
    }
   }
  },
  {
   "cell_type": "markdown",
   "source": [
    "## Список объектов"
   ]
  },
  {
   "cell_type": "code",
   "execution_count": 2,
   "metadata": {
    "pycharm": {
     "name": "#%%\n"
    }
   },
   "outputs": [
    {
     "data": {
      "text/plain": [
       "{'objId': 13383,\n",
       " 'developer': {'devId': 306,\n",
       "  'shortName': '2МЕН ГРУПП',\n",
       "  'fullName': '2МЕН ГРУПП',\n",
       "  'groupName': '2МЕН ГРУПП ДЕВЕЛОПМЕНТ',\n",
       "  'orgForm': {'id': 1, 'fullForm': 'Акционерное общество', 'shortForm': 'АО'},\n",
       "  'companyGroup': 5776,\n",
       "  'devInn': '7701651356'},\n",
       " 'rpdRegionCd': 72,\n",
       " 'objAddr': 'г Тюмень',\n",
       " 'objFloorMin': 4,\n",
       " 'objFloorMax': 20,\n",
       " 'objElemLivingCnt': 68,\n",
       " 'objReady100PercDt': '2022-12-31',\n",
       " 'objSquareLiving': 6293.78,\n",
       " 'objCompensFundFlg': 1,\n",
       " 'objProblemFlg': 0,\n",
       " 'latitude': 57.1519,\n",
       " 'longitude': 65.5536,\n",
       " 'problemFlag': 'NONE',\n",
       " 'siteStatus': 'Строящиеся',\n",
       " 'objGuarantyEscrowFlg': 0,\n",
       " 'residentialBuildings': 1,\n",
       " 'rpdNum': '72-000095',\n",
       " 'pdId': 28105,\n",
       " 'buildType': 'Жилое',\n",
       " 'objStatus': 0}"
      ]
     },
     "execution_count": 2,
     "metadata": {},
     "output_type": "execute_result"
    }
   ],
   "source": [
    "# Для скачивания данных по\n",
    "\n",
    "offset_ = 1\n",
    "limit_ = 100\n",
    "url = f'https://xn--80az8a.xn--d1aqf.xn--p1ai/%D1%81%D0%B5%D1%80%D0%B2%D0%B8%D1%81%D1%8B/api/kn/object?offset={offset_}&limit={limit_}&sortField=devId.devShortCleanNm&sortType=asc&objStatus=0'\n",
    "res = requests.get(url)\n",
    "objects_data = res.json()\n",
    "objects_data.get('data').get('list')[0]"
   ]
  },
  {
   "cell_type": "code",
   "execution_count": 3,
   "metadata": {
    "pycharm": {
     "name": "#%%\n"
    }
   },
   "outputs": [
    {
     "data": {
      "text/plain": [
       "[13383, 13397, 13391, 13398, 13399, 36912, 44076, 23494, 27476, 10891]"
      ]
     },
     "execution_count": 3,
     "metadata": {},
     "output_type": "execute_result"
    }
   ],
   "source": [
    "objects_list = objects_data.get('data').get('list')\n",
    "objids = [x.get('objId') for x in objects_list]\n",
    "objids[:10]"
   ]
  },
  {
   "cell_type": "code",
   "execution_count": 81,
   "metadata": {},
   "outputs": [
    {
     "data": {
      "text/plain": [
       "100"
      ]
     },
     "execution_count": 81,
     "metadata": {},
     "output_type": "execute_result"
    }
   ],
   "source": [
    "len(objids)"
   ]
  },
  {
   "cell_type": "markdown",
   "metadata": {
    "pycharm": {
     "name": "#%% md\n"
    }
   },
   "source": [
    "# Данные по определенному объекту"
   ]
  },
  {
   "cell_type": "code",
   "execution_count": 86,
   "metadata": {
    "pycharm": {
     "name": "#%%\n"
    }
   },
   "outputs": [],
   "source": [
    "# Для скачивания данных по определенному объекту, нужно добавить его id в конец строки запроса\n",
    "url = f'https://xn--80az8a.xn--d1aqf.xn--p1ai/%D1%81%D0%B5%D1%80%D0%B2%D0%B8%D1%81%D1%8B/api/object/10891'"
   ]
  },
  {
   "cell_type": "code",
   "execution_count": 87,
   "metadata": {
    "pycharm": {
     "name": "#%%\n"
    },
    "scrolled": true
   },
   "outputs": [
    {
     "data": {
      "text/plain": [
       "{'data': {'id': 10891,\n",
       "  'pdId': 23054,\n",
       "  'developer': {'devId': 3006,\n",
       "   'devShortCleanNm': 'ААК ВОЛОГДААГРОСТРОЙ',\n",
       "   'devShortNm': 'ААК ВОЛОГДААГРОСТРОЙ',\n",
       "   'devFullCleanNm': 'АКЦИОНЕРНАЯ АГРОСТРОИТЕЛЬНАЯ КОМПАНИЯВОЛОГДААГРОСТРОЙ',\n",
       "   'problObjCnt': 0,\n",
       "   'buildObjCnt': 1,\n",
       "   'comissObjCnt': 5,\n",
       "   'regRegionDesc': 'Волгоградская область',\n",
       "   'devPhoneNum': '+7(817)274-79-00',\n",
       "   'devSite': 'vologdaagrostroy.ru',\n",
       "   'devEmail': 'vologdaagrostroy@yandex.ru',\n",
       "   'devInn': '3525000888',\n",
       "   'devOgrn': '1023500886386',\n",
       "   'devKpp': '352501001',\n",
       "   'devLegalAddr': 'Волгоградская область, г Вологда, улица Галкинская дом 24',\n",
       "   'devFactAddr': 'обл Вологодская, г Вологда, улица Галкинская, д. 24',\n",
       "   'lastRpdId': 625041,\n",
       "   'fundGuarantyFlg': 1,\n",
       "   'devOrgRegRegionCd': 34,\n",
       "   'devEmplMainFullNm': 'Корытин Владимир Николаевич',\n",
       "   'developerGroupName': 'ВологдаАгрострой',\n",
       "   'orgForm': {'id': 1, 'fullForm': 'Акционерное общество', 'shortForm': 'АО'},\n",
       "   'companyGroupId': 7368,\n",
       "   'objGuarantyEscrowFlg': 0,\n",
       "   'govFundFlg': 0},\n",
       "  'region': 35,\n",
       "  'address': 'г Вологда, ул Медуницинская, д. 7',\n",
       "  'nameObj': 'Жилой комплекс \"Рафинад\"',\n",
       "  'floorMin': 16,\n",
       "  'floorMax': 16,\n",
       "  'objElemLivingCnt': 225,\n",
       "  'objReady100PercDt': '2023-03-31',\n",
       "  'wallMaterialShortDesc': 'Панель',\n",
       "  'objLkFinishTypeDesc': 'Без отделки',\n",
       "  'objLkFreePlanDesc': 'Есть',\n",
       "  'objElemParkingCnt': 0,\n",
       "  'objSquareLiving': 12847.23,\n",
       "  'rpdNum': '35-000069',\n",
       "  'rpdPdfLink': 'https://xn--80az8a.xn--d1aqf.xn--p1ai/api/ext/file/81b84920-5811-484a-aed5-f75702e9deec',\n",
       "  'rpdIssueDttm': '09-08-2022 14:14',\n",
       "  'objLkLatitude': '59.1985',\n",
       "  'objLkLongitude': '39.858',\n",
       "  'objCompensFundFlg': 1,\n",
       "  'objProblemFlg': 0,\n",
       "  'objLkClassDesc': 'Комфорт',\n",
       "  'loadDttm': '28-08-2022 01:26',\n",
       "  'photoRenderDTO': [{'objId': 10891,\n",
       "    'pdId': 23054,\n",
       "    'rpdId': 625041,\n",
       "    'devId': 3006,\n",
       "    'ordNum': 1,\n",
       "    'objRenderPhotoSize': 997430,\n",
       "    'objRenderPhotoUrl': 'https://xn--80az8a.xn--d1aqf.xn--p1ai/api/ext/file/3ea64ecc-3ddf-4cd1-b8b4-d87b25cc5616',\n",
       "    'objRenderPhotoDttm': '15-11-2018 14:59',\n",
       "    'objRenderPhotoHiddenFlg': 0,\n",
       "    'objRenderPhotoNm': 'дом № 1 по гп_исходник.jpg',\n",
       "    'objReadyDesc': 'Строится',\n",
       "    'objBuildTypeShortDesc': 'Жилое',\n",
       "    'knFlg': 1,\n",
       "    'loadDttm': '28-08-2022 01:08'}],\n",
       "  'objGuarantyEscrowFlg': 0,\n",
       "  'objectType': 'normal',\n",
       "  'miniUrl': 'https://xn--80az8a.xn--d1aqf.xn--p1ai/api/ext/file/b351ac01-a6d6-4f2b-9b86-8d45152245da',\n",
       "  'residentialBuildings': 1,\n",
       "  'newBuildingId': 6541,\n",
       "  'objFloorCnt': 16,\n",
       "  'objFlatCnt': 225,\n",
       "  'objFlatSq': '12847.23',\n",
       "  'objNonlivElemCnt': 3,\n",
       "  'quartography': {'objLivElem1KCnt': 82,\n",
       "   'objLivElem2KCnt': 101,\n",
       "   'objLivElem3KCnt': 41,\n",
       "   'objLivElem4KCnt': 1,\n",
       "   'objLivElemCnt': 225,\n",
       "   'objLivElemEntrCnt': 3,\n",
       "   'objLivElemEntrFloorAvg': 5},\n",
       "  'objStatus': 0,\n",
       "  'isAvailableWantLiveHere': True,\n",
       "  'objTransferPlanDt': '01-09-2023 12:00',\n",
       "  'objLivCeilingHeight': '2,7 - 3',\n",
       "  'objInfrstrBicycleLaneFlg': 0,\n",
       "  'objInfrstrPlaygrndCnt': 1,\n",
       "  'objInfrstrSportGroundCnt': 1,\n",
       "  'objInfrstrTrashAreaCnt': 1,\n",
       "  'objInfrstrObjPrkngCnt': 0,\n",
       "  'objInfrstrNotObjPrkngCnt': 0,\n",
       "  'objInfrstrRampFlg': 0,\n",
       "  'objInfrstrCurbLoweringFlg': 1,\n",
       "  'objElevatorWheelchairCnt': 0,\n",
       "  'objElevatorPassengerCnt': 3,\n",
       "  'objElevatorCargoCnt': 0,\n",
       "  'soldOutPerc': 0.867069399395823,\n",
       "  'objPriceAvg': 43499,\n",
       "  'nonlivFirstFloor': 0,\n",
       "  'objectTransportInfo': [],\n",
       "  'conclusion': False,\n",
       "  'objLkSaleDepEmail': 'vologdaagrostroy@yandex.ru',\n",
       "  'objGreenHouseFlg': 0,\n",
       "  'objEnergyEffShortDesc': 'D',\n",
       "  'infrastructureIndexValue': 9},\n",
       " 'errcode': '0'}"
      ]
     },
     "execution_count": 87,
     "metadata": {},
     "output_type": "execute_result"
    }
   ],
   "source": [
    "res = requests.get(url)\n",
    "res.json()"
   ]
  },
  {
   "cell_type": "markdown",
   "metadata": {},
   "source": [
    "Домашнее задание"
   ]
  },
  {
   "cell_type": "code",
   "execution_count": 24,
   "metadata": {
    "pycharm": {
     "name": "#%%\n"
    }
   },
   "outputs": [],
   "source": [
    "import pandas as pd"
   ]
  },
  {
   "cell_type": "code",
   "execution_count": 101,
   "metadata": {},
   "outputs": [],
   "source": [
    "dfs = pd.DataFrame()\n",
    "for ids in objids:\n",
    "    url = 'https://xn--80az8a.xn--d1aqf.xn--p1ai/%D1%81%D0%B5%D1%80%D0%B2%D0%B8%D1%81%D1%8B/api/object/' + str(ids)\n",
    "    res = requests.get(url)\n",
    "    dfs=dfs.append(pd.json_normalize(res.json().get('data')))\n",
    "dfs.to_excel('stop_loc.xlsx')\n",
    "dfs.to_pickle(\"./dummy.pkl\")  "
   ]
  },
  {
   "cell_type": "code",
   "execution_count": null,
   "metadata": {},
   "outputs": [],
   "source": [
    "dfs.to_sql('base', con=connection)"
   ]
  }
 ],
 "metadata": {
  "kernelspec": {
   "display_name": "Python 3",
   "language": "python",
   "name": "python3"
  },
  "language_info": {
   "codemirror_mode": {
    "name": "ipython",
    "version": 3
   },
   "file_extension": ".py",
   "mimetype": "text/x-python",
   "name": "python",
   "nbconvert_exporter": "python",
   "pygments_lexer": "ipython3",
   "version": "3.7.3"
  }
 },
 "nbformat": 4,
 "nbformat_minor": 1
}
