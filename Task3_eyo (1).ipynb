{
 "cells": [
  {
   "cell_type": "markdown",
   "metadata": {
    "pycharm": {
     "name": "#%% md\n"
    }
   },
   "source": [
    "[![Open In Colab](https://colab.research.google.com/assets/colab-badge.svg)](https://colab.research.google.com/github/ds-reboot/python-first-part/blob/main/notebooks/hometasks/Task3_dmrf_OOP.ipynb)"
   ]
  },
  {
   "cell_type": "markdown",
   "metadata": {
    "pycharm": {
     "name": "#%% md\n"
    }
   },
   "source": [
    "# Задание\n",
    "Реализовать с помощью объектно-ориентированного подхода предыдущие 2 задания. Создайте для каждой из задач отдельный класс, который позволяет ее решить.\n",
    "\n",
    "* Собрать информацию о всех строящихся объектах на сайте \"наш.дом.рф\"\n",
    "* Cохранить ее в pandas dataframe, а также в excel, pickle, БД\n",
    "\n",
    "* Проверить состояние датафрейма и привести его в формат, позволяющий дальнейшее исследование данных\n",
    "\n",
    "*  Сделать визуализацию для мини-исследования рынка строящейся недвижимости в одном или нескольких регионах с помощью pandas, matplotlib, seaborn, plotly и других инструментов.\n",
    "\n"
   ]
  },
  {
   "cell_type": "code",
   "execution_count": 2,
   "metadata": {
    "pycharm": {
     "name": "#%%\n"
    }
   },
   "outputs": [],
   "source": [
    "import requests\n",
    "import pandas as pd\n",
    "from tqdm import tqdm_notebook as tqdm\n",
    "import sqlite3 as sl"
   ]
  },
  {
   "cell_type": "code",
   "execution_count": 3,
   "metadata": {
    "pycharm": {
     "name": "#%%\n"
    }
   },
   "outputs": [],
   "source": [
    "class DomIdLoader:\n",
    "    def __init__(self):\n",
    "        self.offset_ = 1\n",
    "        self.limit_ = 100\n",
    "        #self.i=i\n",
    "        self.url = 'https://xn--80az8a.xn--d1aqf.xn--p1ai/%D1%81%D0%B5%D1%80%D0%B2%D0%B8%D1%81%D1%8B/api/kn/object'\n",
    "        self.objects_data = None\n",
    "        self.unik=[]\n",
    "    def get_ids(self):\n",
    "        for i in tqdm(range (1,10700,100)):\n",
    "            self.offset_ = i\n",
    "            paramz = {\n",
    "                'offset': self.offset_,\n",
    "                'limit': self.limit_,\n",
    "                'sortField':'devId.devShortCleanNm',\n",
    "                'sortType':'asc',\n",
    "                'objStatus':'0',\n",
    "            }\n",
    "            res = requests.get(self.url, params=paramz)\n",
    "\n",
    "            self.objects_data = res.json()\n",
    "            objects_list = self.objects_data.get('data').get('list')\n",
    "            objids = [x.get('objId') for x in objects_list]\n",
    "            self.unik.extend(objids)\n",
    "        #return self.unik\n",
    "    def show_ids(self):\n",
    "        result=self.unik\n",
    "        return result\n",
    "               \n"
   ]
  },
  {
   "cell_type": "code",
   "execution_count": 4,
   "metadata": {},
   "outputs": [],
   "source": [
    "#создаем объект\n",
    "a=DomIdLoader()"
   ]
  },
  {
   "cell_type": "code",
   "execution_count": 5,
   "metadata": {
    "scrolled": false
   },
   "outputs": [
    {
     "data": {
      "application/vnd.jupyter.widget-view+json": {
       "model_id": "88e7b89c32d249a3830a2c84b7c05958",
       "version_major": 2,
       "version_minor": 0
      },
      "text/plain": [
       "HBox(children=(IntProgress(value=0, max=107), HTML(value='')))"
      ]
     },
     "metadata": {},
     "output_type": "display_data"
    },
    {
     "name": "stdout",
     "output_type": "stream",
     "text": [
      "\n"
     ]
    }
   ],
   "source": [
    "#грузим\n",
    "a.get_ids()"
   ]
  },
  {
   "cell_type": "code",
   "execution_count": 11,
   "metadata": {},
   "outputs": [
    {
     "name": "stdout",
     "output_type": "stream",
     "text": [
      "[13383, 13397]\n"
     ]
    },
    {
     "data": {
      "text/plain": [
       "10671"
      ]
     },
     "execution_count": 11,
     "metadata": {},
     "output_type": "execute_result"
    }
   ],
   "source": [
    "#список id - промежуточный этап чтобы метод первого класса не использовался во втором\n",
    "result=a.show_ids()\n",
    "print(result[:2])\n",
    "len(result)"
   ]
  },
  {
   "cell_type": "code",
   "execution_count": 23,
   "metadata": {
    "pycharm": {
     "name": "#%%\n"
    }
   },
   "outputs": [],
   "source": [
    "#первый вариант\n",
    "class ObjectInfoExtractor:\n",
    "    def __init__(self, ids):\n",
    "        self.ids=ids\n",
    "        self.url2='https://xn--80az8a.xn--d1aqf.xn--p1ai/%D1%81%D0%B5%D1%80%D0%B2%D0%B8%D1%81%D1%8B/api/object/'\n",
    "        self.dfs = pd.DataFrame()\n",
    "    def load_data(self):\n",
    "        for ids in tqdm(result):\n",
    "            res = requests.get(self.url2 + str(ids))\n",
    "            self.dfs=self.dfs.append(pd.json_normalize(res.json().get('data')))\n",
    "\n",
    "    def df_converter(self):\n",
    "        result2=self.dfs\n",
    "        result2=result2.apply(pd.to_numeric, errors='ignore')\n",
    "        return result2"
   ]
  },
  {
   "cell_type": "code",
   "execution_count": 24,
   "metadata": {},
   "outputs": [],
   "source": [
    "b=ObjectInfoExtractor(result)"
   ]
  },
  {
   "cell_type": "code",
   "execution_count": 25,
   "metadata": {},
   "outputs": [
    {
     "data": {
      "application/vnd.jupyter.widget-view+json": {
       "model_id": "0b6f702f5e784f35b615fb63eb33b308",
       "version_major": 2,
       "version_minor": 0
      },
      "text/plain": [
       "HBox(children=(IntProgress(value=0, max=10671), HTML(value='')))"
      ]
     },
     "metadata": {},
     "output_type": "display_data"
    },
    {
     "name": "stdout",
     "output_type": "stream",
     "text": [
      "\n"
     ]
    }
   ],
   "source": [
    "b.load_data()"
   ]
  },
  {
   "cell_type": "code",
   "execution_count": 41,
   "metadata": {},
   "outputs": [],
   "source": [
    "dataf=b.df_converter()"
   ]
  },
  {
   "cell_type": "code",
   "execution_count": 42,
   "metadata": {
    "pycharm": {
     "name": "#%%\n"
    }
   },
   "outputs": [],
   "source": [
    "class Saver:\n",
    "    def __init__(self, data):\n",
    "        self.data=data\n",
    "        \n",
    "\n",
    "    def save_csv(self):\n",
    "        self.data.to_csv('stop_loc.csv')#записываем в иксель\n",
    "\n",
    "\n",
    "    def save_xl(self):\n",
    "        self.data.to_excel('stop_loc.xlsx')#записываем в иксель\n",
    "\n",
    "    def save_sql(self):\n",
    "        \n",
    "        con = sl.connect('my-test.db')\n",
    "        dfs3 = self.data.applymap(str)\n",
    "        dfs3.to_sql('dfs5', con)\n",
    "\n"
   ]
  },
  {
   "cell_type": "code",
   "execution_count": 43,
   "metadata": {
    "pycharm": {
     "name": "#%%\n"
    }
   },
   "outputs": [],
   "source": [
    "#создаем глобальный объект\n",
    "c=Saver(dataf)"
   ]
  },
  {
   "cell_type": "code",
   "execution_count": 29,
   "metadata": {},
   "outputs": [],
   "source": [
    "c.save_csv()"
   ]
  },
  {
   "cell_type": "code",
   "execution_count": 30,
   "metadata": {},
   "outputs": [],
   "source": [
    "c.save_xl()"
   ]
  },
  {
   "cell_type": "code",
   "execution_count": 35,
   "metadata": {
    "scrolled": true
   },
   "outputs": [],
   "source": [
    "c.save_sql()"
   ]
  },
  {
   "cell_type": "code",
   "execution_count": 36,
   "metadata": {},
   "outputs": [
    {
     "name": "stderr",
     "output_type": "stream",
     "text": [
      "C:\\Anaconda3\\lib\\site-packages\\statsmodels\\tools\\_testing.py:19: FutureWarning: pandas.util.testing is deprecated. Use the functions in the public API at pandas.testing instead.\n",
      "  import pandas.util.testing as tm\n"
     ]
    }
   ],
   "source": [
    "import seaborn as sns\n",
    "import matplotlib.pyplot as plt\n",
    "import matplotlib\n",
    "%matplotlib inline"
   ]
  },
  {
   "cell_type": "code",
   "execution_count": 47,
   "metadata": {},
   "outputs": [],
   "source": [
    "class Visualizer:\n",
    "    def __init__(self,data):\n",
    "        self.data=data\n",
    "\n",
    "    def make_boxplot(self, ):\n",
    "        plt.title(\"Сравнение цен на недвижимость Тюменской и Свердловской области\", fontsize =20)\n",
    "        sns.boxplot(x=\"developer.regRegionDesc\", y=\"objPriceAvg\", data=self.data)\n",
    "\n",
    "    def make_heatmap(self):\n",
    "        plt.figure(figsize=(30, 15)) \n",
    "        plt.title(\"Корреляция показателей\", fontsize =20)\n",
    "        sns.heatmap(self.data.corr(), annot=True)"
   ]
  },
  {
   "cell_type": "code",
   "execution_count": 48,
   "metadata": {},
   "outputs": [],
   "source": [
    "v=Visualizer(dataf[(dataf[\"developer.regRegionDesc\"]=='Свердловская область')|(dataf[\"developer.regRegionDesc\"]=='Тюменская область')])"
   ]
  },
  {
   "cell_type": "code",
   "execution_count": 49,
   "metadata": {},
   "outputs": [],
   "source": [
    "v1=Visualizer(dataf[[\"developer.regRegionDesc\",\"objSquareLiving\",\"objPriceAvg\",\"objFloorCnt\",\"objFlatCnt\",\"objFlatSq\",\"objElemParkingCnt\"]][(dataf[\"developer.regRegionDesc\"]=='Свердловская область')])"
   ]
  },
  {
   "cell_type": "code",
   "execution_count": 50,
   "metadata": {
    "scrolled": true
   },
   "outputs": [
    {
     "data": {
      "image/png": "[encoded data removed]",
      "text/plain": [
       "<Figure size 432x288 with 1 Axes>"
      ]
     },
     "metadata": {
      "needs_background": "light"
     },
     "output_type": "display_data"
    }
   ],
   "source": [
    "v.make_boxplot()"
   ]
  },
  {
   "cell_type": "code",
   "execution_count": 51,
   "metadata": {},
   "outputs": [
    {
     "data": {
      "image/png": "[encoded data removed]",
      "text/plain": [
       "<Figure size 2160x1080 with 2 Axes>"
      ]
     },
     "metadata": {
      "needs_background": "light"
     },
     "output_type": "display_data"
    }
   ],
   "source": [
    "v1.make_heatmap()"
   ]
  }
 ],
 "metadata": {
  "kernelspec": {
   "display_name": "Python 3",
   "language": "python",
   "name": "python3"
  },
  "language_info": {
   "codemirror_mode": {
    "name": "ipython",
    "version": 3
   },
   "file_extension": ".py",
   "mimetype": "text/x-python",
   "name": "python",
   "nbconvert_exporter": "python",
   "pygments_lexer": "ipython3",
   "version": "3.7.4"
  }
 },
 "nbformat": 4,
 "nbformat_minor": 1
}
